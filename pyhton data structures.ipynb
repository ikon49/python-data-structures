{
 "cells": [
  {
   "cell_type": "code",
   "execution_count": null,
   "id": "f2e78347-00b9-474a-bb3d-55dc403c8034",
   "metadata": {},
   "outputs": [],
   "source": [
    "# question 1\n",
    "# Write a Python program that multiplies all the items in a list.\n",
    "\n",
    "Sample list= [2, 3, 6]\n",
    "\n",
    "Result = 36"
   ]
  },
  {
   "cell_type": "code",
   "execution_count": 1,
   "id": "8c988ed4-db70-4e0f-8fb7-d01ed8bc7ef3",
   "metadata": {},
   "outputs": [
    {
     "name": "stdout",
     "output_type": "stream",
     "text": [
      "Result = 2592\n"
     ]
    }
   ],
   "source": [
    "# Define the sample list\n",
    "sample_list = [2, 3, 6, 8, 9]\n",
    "\n",
    "# Initialize the result to 1 (the multiplicative identity)\n",
    "result = 1\n",
    "\n",
    "# Iterate through the list and multiply each element with the result\n",
    "for number in sample_list:\n",
    "    result *= number\n",
    "\n",
    "# Print the final result\n",
    "print(\"Result =\", result)"
   ]
  },
  {
   "cell_type": "code",
   "execution_count": null,
   "id": "ce4d4b6a-d8d8-424c-910b-f4411f309fab",
   "metadata": {},
   "outputs": [],
   "source": [
    "# question 2\n",
    "Write a Python program to get a list, sorted in increasing order by the last element in each tuple, from a given list of non-empty tuples.\n",
    "\n",
    "Sample List : [(2, 5), (1, 2), (4, 4), (2, 3), (2, 1)]\n",
    "\n",
    "Expected result : [(2, 1), (1, 2), (2, 3), (4, 4), (2, 5)]\n",
    "\n",
    "Hint: You can use the sort function."
   ]
  },
  {
   "cell_type": "code",
   "execution_count": 1,
   "id": "6510b8da-a42f-4139-a482-cdb736ef275b",
   "metadata": {},
   "outputs": [
    {
     "name": "stdout",
     "output_type": "stream",
     "text": [
      "Sorted list: [(2, 1), (1, 2), (2, 3), (4, 4), (2, 5)]\n"
     ]
    }
   ],
   "source": [
    "# question 2\n",
    "# Sample list of non-empty tuples\n",
    "sample_list = [(2, 5), (1, 2), (4, 4), (2, 3), (2, 1)]\n",
    "\n",
    "# Function to return the last element of a tuple\n",
    "def last_element(tuple):\n",
    "    return tuple[-1]\n",
    "\n",
    "# Sorting the list using the custom key\n",
    "sorted_list = sorted(sample_list, key=last_element)\n",
    "\n",
    "# Printing the sorted list\n",
    "print(\"Sorted list:\", sorted_list)\n"
   ]
  },
  {
   "cell_type": "code",
   "execution_count": null,
   "id": "5df8ecfd-02a8-458e-b431-5a5beac81c53",
   "metadata": {},
   "outputs": [],
   "source": [
    "# question 3\n",
    "Write a Python program that combines two dictionaries by adding values for common keys.\n",
    "\n",
    "d1 = {'a': 100, 'b': 200, 'c':300}\n",
    "\n",
    "d2 = {'a': 300, 'b': 200, 'd':400}\n",
    "\n",
    "Expected result: {'a': 400, 'b': 400, 'd': 400, 'c': 300}"
   ]
  },
  {
   "cell_type": "code",
   "execution_count": 2,
   "id": "e8fd0539-3298-4681-bc47-1a7329121cfe",
   "metadata": {},
   "outputs": [
    {
     "name": "stdout",
     "output_type": "stream",
     "text": [
      "{'a': 400, 'b': 400, 'c': 300, 'd': 400}\n"
     ]
    }
   ],
   "source": [
    "# Define the dictionaries\n",
    "d1 = {'a': 100, 'b': 200, 'c': 300}\n",
    "d2 = {'a': 300, 'b': 200, 'd': 400}\n",
    "\n",
    "# Create a new dictionary to store the combined results\n",
    "combined_dict = {}\n",
    "\n",
    "# Add values from d1 to combined_dict\n",
    "for key in d1:\n",
    "    combined_dict[key] = d1[key]\n",
    "\n",
    "# Add values from d2 to combined_dict, combining if the key already exists\n",
    "for key in d2:\n",
    "    if key in combined_dict:\n",
    "        combined_dict[key] += d2[key]\n",
    "    else:\n",
    "        combined_dict[key] = d2[key]\n",
    "\n",
    "# Print the combined dictionary\n",
    "print(combined_dict)\n"
   ]
  },
  {
   "cell_type": "code",
   "execution_count": null,
   "id": "69e7aa9c-cac3-46b3-9dcd-db37d602d0c0",
   "metadata": {},
   "outputs": [],
   "source": [
    "# Question 4\n",
    "#With a given integral number n, write a program to generate a dictionary that contains (i, i*i) so that is an integral number between 1 and n (both included). Then the program should print the dictionary. Suppose the following input is supplied to the program: 8. Then, the output should be: {1: 1, 2: 4, 3: 9, 4: 16, 5: 25, 6: 36, 7: 49, 8: 64}"
   ]
  },
  {
   "cell_type": "code",
   "execution_count": 2,
   "id": "170734f0-4aa4-40eb-a3b3-0b606e25e1af",
   "metadata": {},
   "outputs": [
    {
     "name": "stdin",
     "output_type": "stream",
     "text": [
      "Enter an integral number:  8\n"
     ]
    },
    {
     "name": "stdout",
     "output_type": "stream",
     "text": [
      "{1: 1, 2: 4, 3: 9, 4: 16, 5: 25, 6: 36, 7: 49, 8: 64}\n"
     ]
    }
   ],
   "source": [
    "# Function to generate the dictionary\n",
    "def generate_square_dict(n):\n",
    "    square_dict = {i: i * i for i in range(1, n + 1)}\n",
    "    return square_dict\n",
    "\n",
    "# Input: integral number n\n",
    "n = int(input(\"Enter an integral number: \"))\n",
    "\n",
    "# Generate and print the dictionary\n",
    "result_dict = generate_square_dict(n)\n",
    "print(result_dict)\n"
   ]
  },
  {
   "cell_type": "code",
   "execution_count": null,
   "id": "1596fd2d-72c8-48f1-8d54-78c8770bc55f",
   "metadata": {},
   "outputs": [],
   "source": [
    "# Question 5\n",
    "#Write a program to sort a tuple by its float element.\n",
    "\n",
    "For example: list= [('item1', '12.20'), ('item2', '15.10'), ('item3', '24.5')]\n",
    "\n",
    "Expected result: [('item3', '24.5'), ('item2', '15.10'), ('item1', '12.20')]\n"
   ]
  },
  {
   "cell_type": "code",
   "execution_count": 1,
   "id": "c97b10c1-4fd1-4702-81c4-587c2dcbeaac",
   "metadata": {},
   "outputs": [
    {
     "name": "stdout",
     "output_type": "stream",
     "text": [
      "[('item3', '24.5'), ('item2', '15.10'), ('item1', '12.20')]\n"
     ]
    }
   ],
   "source": [
    "# Sample list of tuples\n",
    "sample_list = [('item1', '12.20'), ('item2', '15.10'), ('item3', '24.5')]\n",
    "\n",
    "# Sort the list using a custom key\n",
    "sorted_list = sorted(sample_list, key=lambda x: float(x[1]), reverse=True)\n",
    "\n",
    "# Print the sorted list\n",
    "print(sorted_list)\n"
   ]
  },
  {
   "cell_type": "code",
   "execution_count": null,
   "id": "e55dc319-7e78-4faa-bfab-c005f601c02e",
   "metadata": {},
   "outputs": [],
   "source": [
    "# Question 6\n",
    "#Write a Python program to create a set.\n",
    "\n",
    "Examples : {0, 1, 2, 3, 4}\n",
    "\n",
    "Write a Python program to iteration over sets.\n",
    "\n",
    "Write a Python program to add members in a set and to remove items from a given set."
   ]
  },
  {
   "cell_type": "code",
   "execution_count": 2,
   "id": "06b0e7b7-811c-477a-a06a-8569fff2f0dc",
   "metadata": {},
   "outputs": [
    {
     "name": "stdout",
     "output_type": "stream",
     "text": [
      "Created set: {0, 1, 2, 3, 4}\n",
      "Iterating over the set:\n",
      "0\n",
      "1\n",
      "2\n",
      "3\n",
      "4\n",
      "Set after adding elements 5 and 6: {0, 1, 2, 3, 4, 5, 6}\n",
      "Set after removing element 3: {0, 1, 2, 4, 5, 6}\n",
      "Set after trying to discard element 10 (not present): {0, 1, 2, 4, 5, 6}\n"
     ]
    }
   ],
   "source": [
    "# Task 1: Create a set\n",
    "my_set = {0, 1, 2, 3, 4}\n",
    "print(\"Created set:\", my_set)\n",
    "\n",
    "# Task 2: Iterate over the set\n",
    "print(\"Iterating over the set:\")\n",
    "for element in my_set:\n",
    "    print(element)\n",
    "\n",
    "# Task 3: Add and remove members from the set\n",
    "# Add members to the set\n",
    "my_set.add(5)\n",
    "my_set.add(6)\n",
    "print(\"Set after adding elements 5 and 6:\", my_set)\n",
    "\n",
    "# Remove items from the set\n",
    "my_set.remove(3)  # Removes element 3\n",
    "print(\"Set after removing element 3:\", my_set)\n",
    "\n",
    "# Use discard to remove an element that might not exist (doesn't raise an error)\n",
    "my_set.discard(10)  # Trying to remove element 10 which is not in the set\n",
    "print(\"Set after trying to discard element 10 (not present):\", my_set)\n"
   ]
  }
 ],
 "metadata": {
  "kernelspec": {
   "display_name": "Python 3 (ipykernel)",
   "language": "python",
   "name": "python3"
  },
  "language_info": {
   "codemirror_mode": {
    "name": "ipython",
    "version": 3
   },
   "file_extension": ".py",
   "mimetype": "text/x-python",
   "name": "python",
   "nbconvert_exporter": "python",
   "pygments_lexer": "ipython3",
   "version": "3.11.7"
  }
 },
 "nbformat": 4,
 "nbformat_minor": 5
}
